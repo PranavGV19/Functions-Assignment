{
 "cells": [
  {
   "cell_type": "code",
   "execution_count": 1,
   "id": "c0e90d35",
   "metadata": {},
   "outputs": [],
   "source": [
    "#FUNCTIONS ASSIGNMENT"
   ]
  },
  {
   "cell_type": "code",
   "execution_count": 2,
   "id": "924a7d66",
   "metadata": {},
   "outputs": [],
   "source": [
    "def SubFields():\n",
    "    print(\"Sub-Fields in AI are\")\n",
    "    list = ['Machine Learning', 'Neural Networks', 'Vision', 'Robotics', 'Speech Processing','Natural Language Processing']\n",
    "    for temp in list:\n",
    "        print(temp)\n"
   ]
  },
  {
   "cell_type": "code",
   "execution_count": 3,
   "id": "5fe864c0",
   "metadata": {},
   "outputs": [
    {
     "name": "stdout",
     "output_type": "stream",
     "text": [
      "Sub-Fields in AI are\n",
      "Machine Learning\n",
      "Neural Networks\n",
      "Vision\n",
      "Robotics\n",
      "Speech Processing\n",
      "Natural Language Processing\n"
     ]
    }
   ],
   "source": [
    "SubFields()"
   ]
  },
  {
   "cell_type": "code",
   "execution_count": 4,
   "id": "91c6d248",
   "metadata": {},
   "outputs": [],
   "source": [
    "def oddeven():\n",
    "    num = int(input(\"Enter a number to check: \"))\n",
    "    if num%2==0:\n",
    "        print(f\"{num} is an Even Number\")\n",
    "    else:\n",
    "        print(f\"{num} is an Odd number\")\n"
   ]
  },
  {
   "cell_type": "code",
   "execution_count": 5,
   "id": "98e3c58e",
   "metadata": {},
   "outputs": [
    {
     "name": "stdout",
     "output_type": "stream",
     "text": [
      "Enter a number to check: 4\n",
      "4 is an Even Number\n"
     ]
    }
   ],
   "source": [
    "oddeven()"
   ]
  },
  {
   "cell_type": "code",
   "execution_count": 10,
   "id": "b3bb14e6",
   "metadata": {},
   "outputs": [],
   "source": [
    "def eligibile():\n",
    "    gender = input(\"Enter your gender: \")\n",
    "    age = int(input(\"Enter your age\"))\n",
    "    if gender == \"Male\":\n",
    "        if age>=21:\n",
    "            print(\"ELIGIBLE\")\n",
    "        else:\n",
    "            print(\"INELIGIBLE\")\n",
    "    elif gender == \"Female\":\n",
    "        if age>=18:\n",
    "            print(\"ELIGIBLE\")\n",
    "        else:\n",
    "            print(\"INELIGIBLE\")\n",
    "    else:\n",
    "        print(\"INVALID GENDER\")"
   ]
  },
  {
   "cell_type": "code",
   "execution_count": 11,
   "id": "94114da4",
   "metadata": {},
   "outputs": [
    {
     "name": "stdout",
     "output_type": "stream",
     "text": [
      "Enter your gender: Male\n",
      "Enter your age18\n",
      "INELIGIBLE\n"
     ]
    }
   ],
   "source": [
    "eligibile()"
   ]
  },
  {
   "cell_type": "code",
   "execution_count": 16,
   "id": "8ffcd0b6",
   "metadata": {},
   "outputs": [],
   "source": [
    "def percentage():\n",
    "    \n",
    "        m1 = int(input(\"Subject1= \"))\n",
    "        m2 = int(input(\"Subject2= \"))\n",
    "        m3 = int(input(\"Subject3= \"))\n",
    "        m4 = int(input(\"Subject4= \"))\n",
    "        m5 = int(input(\"Subject5= \"))\n",
    "        \n",
    "        Total = m1 + m2 + m3 + m4 + m5\n",
    "        print(\"Total: \", Total)\n",
    "        \n",
    "        Percent = (Total / 500) * 100\n",
    "        print(\"Percentage: \", Percent)\n",
    "\n",
    "\n"
   ]
  },
  {
   "cell_type": "code",
   "execution_count": 17,
   "id": "9b62c27c",
   "metadata": {},
   "outputs": [
    {
     "name": "stdout",
     "output_type": "stream",
     "text": [
      "Subject1= 98\n",
      "Subject2= 98\n",
      "Subject3= 97\n",
      "Subject4= 97\n",
      "Subject5= 96\n",
      "Total:  486\n",
      "Percentage:  97.2\n"
     ]
    }
   ],
   "source": [
    "percentage()"
   ]
  },
  {
   "cell_type": "code",
   "execution_count": 18,
   "id": "6b27a8e7",
   "metadata": {},
   "outputs": [],
   "source": [
    "def triangle():\n",
    "    height = float(input(\"Height: \"))\n",
    "    breadth = float(input(\"Breadth: \"))\n",
    "    area = (height * breadth) / 2\n",
    "    print(\"Area formula: (Height * Breadth) / 2\")\n",
    "    print(\"Area of Triangle: \", area)\n",
    "    \n",
    "    height1 = float(input(\"Height1: \"))\n",
    "    height2 = float(input(\"Height2: \"))\n",
    "    breadth = float(input(\"Breadth: \"))\n",
    "    perimeter = height1 + height2 + breadth\n",
    "    print(\"Perimeter formula: Height1 + Height2 + Breadth\")\n",
    "    print(\"Perimeter of Triangle: \", perimeter)\n",
    "\n"
   ]
  },
  {
   "cell_type": "code",
   "execution_count": 19,
   "id": "c3600932",
   "metadata": {},
   "outputs": [
    {
     "name": "stdout",
     "output_type": "stream",
     "text": [
      "Height: 6\n",
      "Breadth: 7\n",
      "Area formula: (Height * Breadth) / 2\n",
      "Area of Triangle:  21.0\n",
      "Height1: 8\n",
      "Height2: 9\n",
      "Breadth: 10\n",
      "Perimeter formula: Height1 + Height2 + Breadth\n",
      "Perimeter of Triangle:  27.0\n"
     ]
    }
   ],
   "source": [
    "triangle()"
   ]
  },
  {
   "cell_type": "code",
   "execution_count": null,
   "id": "f8a13542",
   "metadata": {},
   "outputs": [],
   "source": []
  }
 ],
 "metadata": {
  "kernelspec": {
   "display_name": "Python 3 (ipykernel)",
   "language": "python",
   "name": "python3"
  },
  "language_info": {
   "codemirror_mode": {
    "name": "ipython",
    "version": 3
   },
   "file_extension": ".py",
   "mimetype": "text/x-python",
   "name": "python",
   "nbconvert_exporter": "python",
   "pygments_lexer": "ipython3",
   "version": "3.11.7"
  }
 },
 "nbformat": 4,
 "nbformat_minor": 5
}
